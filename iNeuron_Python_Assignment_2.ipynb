{
  "nbformat": 4,
  "nbformat_minor": 0,
  "metadata": {
    "colab": {
      "name": "iNeuron_Python_Assignment_2.ipynb",
      "provenance": [],
      "collapsed_sections": []
    },
    "kernelspec": {
      "name": "python3",
      "display_name": "Python 3"
    }
  },
  "cells": [
    {
      "cell_type": "markdown",
      "metadata": {
        "id": "qt72_XJ9q1Io",
        "colab_type": "text"
      },
      "source": [
        "Write a Python Program to implement your own myreduce() function which works exactly like Python's built-in function reduce() "
      ]
    },
    {
      "cell_type": "code",
      "metadata": {
        "id": "viMsz4w8q3wC",
        "colab_type": "code",
        "colab": {}
      },
      "source": [
        "def myreduce(my_func,my_list):\n",
        "  result=my_list[0]\n",
        "  for i in my_list[1:]:\n",
        "    result=myreduce(result,i)\n",
        "\n",
        "  yield result\n"
      ],
      "execution_count": 0,
      "outputs": []
    },
    {
      "cell_type": "code",
      "metadata": {
        "id": "SAbOqpfnu6RB",
        "colab_type": "code",
        "colab": {
          "base_uri": "https://localhost:8080/",
          "height": 35
        },
        "outputId": "1b3a4234-4e12-477c-cde8-4c2bdf34f020"
      },
      "source": [
        "myreduce"
      ],
      "execution_count": 8,
      "outputs": [
        {
          "output_type": "execute_result",
          "data": {
            "text/plain": [
              "<function __main__.myreduce>"
            ]
          },
          "metadata": {
            "tags": []
          },
          "execution_count": 8
        }
      ]
    },
    {
      "cell_type": "code",
      "metadata": {
        "id": "QqxqJ_EztJPz",
        "colab_type": "code",
        "colab": {}
      },
      "source": [
        "def my_func(a):\n",
        "  a=[1,2,3]\n",
        "  return a\n",
        "  "
      ],
      "execution_count": 0,
      "outputs": []
    },
    {
      "cell_type": "code",
      "metadata": {
        "id": "jrISOgR3tpHe",
        "colab_type": "code",
        "colab": {}
      },
      "source": [
        "def my_list():\n",
        "  l=[4,5,6]\n",
        "  return l"
      ],
      "execution_count": 0,
      "outputs": []
    },
    {
      "cell_type": "code",
      "metadata": {
        "id": "OSJIfohMt23m",
        "colab_type": "code",
        "colab": {
          "base_uri": "https://localhost:8080/",
          "height": 35
        },
        "outputId": "02058cd4-fad2-4a50-9ab9-71c25a3df114"
      },
      "source": [
        "myreduce(my_func,my_list)"
      ],
      "execution_count": 11,
      "outputs": [
        {
          "output_type": "execute_result",
          "data": {
            "text/plain": [
              "<generator object myreduce at 0x7f3458638410>"
            ]
          },
          "metadata": {
            "tags": []
          },
          "execution_count": 11
        }
      ]
    },
    {
      "cell_type": "markdown",
      "metadata": {
        "id": "8rWR0WNAvPXL",
        "colab_type": "text"
      },
      "source": [
        "Write a Python program to implement your own myfilter() function which works exactly like Python's built-in function filter() \n",
        " \n",
        " "
      ]
    },
    {
      "cell_type": "code",
      "metadata": {
        "id": "OdhY6x7bvS7u",
        "colab_type": "code",
        "colab": {}
      },
      "source": [
        "def myfilter(my_func,my_list):\n",
        "  result=[]\n",
        "  for i in my_list:\n",
        "    if my_func(i):\n",
        "      result.append(i)\n",
        "\n",
        "  yield result"
      ],
      "execution_count": 0,
      "outputs": []
    },
    {
      "cell_type": "code",
      "metadata": {
        "id": "kf8ETY8TwDhK",
        "colab_type": "code",
        "colab": {
          "base_uri": "https://localhost:8080/",
          "height": 35
        },
        "outputId": "48df3aee-85e6-4b70-d80a-80f02eedc866"
      },
      "source": [
        "myfilter"
      ],
      "execution_count": 13,
      "outputs": [
        {
          "output_type": "execute_result",
          "data": {
            "text/plain": [
              "<function __main__.myfilter>"
            ]
          },
          "metadata": {
            "tags": []
          },
          "execution_count": 13
        }
      ]
    },
    {
      "cell_type": "code",
      "metadata": {
        "id": "dUE_VMN1wF-K",
        "colab_type": "code",
        "colab": {}
      },
      "source": [
        "def my_func(a):\n",
        "  a=[1,2,3,4,5,6]\n",
        "  return a"
      ],
      "execution_count": 0,
      "outputs": []
    },
    {
      "cell_type": "code",
      "metadata": {
        "id": "DjiU3S2ZwNhV",
        "colab_type": "code",
        "colab": {}
      },
      "source": [
        "def my_list(l):\n",
        "  l=[9,8,7,6,5,4]\n",
        "  return l"
      ],
      "execution_count": 0,
      "outputs": []
    },
    {
      "cell_type": "code",
      "metadata": {
        "id": "RYf_XN38wfPW",
        "colab_type": "code",
        "colab": {
          "base_uri": "https://localhost:8080/",
          "height": 35
        },
        "outputId": "f5eecdce-fd10-4ef2-b058-30c7ed9ebb8d"
      },
      "source": [
        "myfilter(my_func,my_list)"
      ],
      "execution_count": 17,
      "outputs": [
        {
          "output_type": "execute_result",
          "data": {
            "text/plain": [
              "<generator object myfilter at 0x7f34586386d0>"
            ]
          },
          "metadata": {
            "tags": []
          },
          "execution_count": 17
        }
      ]
    },
    {
      "cell_type": "markdown",
      "metadata": {
        "id": "26aDSEXBwzJR",
        "colab_type": "text"
      },
      "source": [
        "Write List comprehensions to produce the following Lists \n",
        "\n",
        "['A', 'C', 'A', 'D', 'G', 'I', ’L’, ‘ D’] \n",
        " \n",
        "['x', 'xx', 'xxx', 'xxxx', 'y', 'yy', 'yyy', 'yyyy', 'z', 'zz', 'zzz', 'zzzz'] \n",
        " \n",
        "['x', 'y', 'z', 'xx', 'yy', 'zz', 'xx', 'yy', 'zz', 'xxxx', 'yyyy', 'zzzz'] \n",
        " \n",
        "[[2], [3], [4], [3], [4], [5], [4], [5], [6]] \n",
        " \n",
        "[[2, 3, 4, 5], [3, 4, 5, 6], [4, 5, 6, 7], [5, 6, 7, 8]] \n",
        " \n",
        "[(1, 1), (2, 1), (3, 1), (1, 2), (2, 2), (3, 2), (1, 3), (2, 3), (3, 3)] "
      ]
    },
    {
      "cell_type": "code",
      "metadata": {
        "id": "fPUBLGEpwtFe",
        "colab_type": "code",
        "colab": {
          "base_uri": "https://localhost:8080/",
          "height": 35
        },
        "outputId": "31cd02f4-58e8-4ff0-b23e-c0497df0b92f"
      },
      "source": [
        "word=\"ACADGLID\"\n",
        "l1=[i for i in word]\n",
        "print(str(l1))"
      ],
      "execution_count": 21,
      "outputs": [
        {
          "output_type": "stream",
          "text": [
            "['A', 'C', 'A', 'D', 'G', 'L', 'I', 'D']\n"
          ],
          "name": "stdout"
        }
      ]
    },
    {
      "cell_type": "code",
      "metadata": {
        "id": "7zKd51VWyHsp",
        "colab_type": "code",
        "colab": {
          "base_uri": "https://localhost:8080/",
          "height": 35
        },
        "outputId": "2e995623-b3c4-4450-e7ca-bc980931d67c"
      },
      "source": [
        "my_list = ['x','y','z']\n",
        "l2 = [i*j for i in my_list for j in range(1,5)  ]\n",
        "print(str(l2))"
      ],
      "execution_count": 22,
      "outputs": [
        {
          "output_type": "stream",
          "text": [
            "['x', 'xx', 'xxx', 'xxxx', 'y', 'yy', 'yyy', 'yyyy', 'z', 'zz', 'zzz', 'zzzz']\n"
          ],
          "name": "stdout"
        }
      ]
    },
    {
      "cell_type": "code",
      "metadata": {
        "id": "D2qq9kAdzYTU",
        "colab_type": "code",
        "colab": {
          "base_uri": "https://localhost:8080/",
          "height": 35
        },
        "outputId": "da18440d-100e-4211-d7b6-08ab0f9a6ff0"
      },
      "source": [
        "A=['x','y','z']\n",
        "l3=[i*j for i in range(1,5) for j in A]\n",
        "print(str(l3))"
      ],
      "execution_count": 24,
      "outputs": [
        {
          "output_type": "stream",
          "text": [
            "['x', 'y', 'z', 'xx', 'yy', 'zz', 'xxx', 'yyy', 'zzz', 'xxxx', 'yyyy', 'zzzz']\n"
          ],
          "name": "stdout"
        }
      ]
    },
    {
      "cell_type": "code",
      "metadata": {
        "id": "pl4JribezwSX",
        "colab_type": "code",
        "colab": {
          "base_uri": "https://localhost:8080/",
          "height": 35
        },
        "outputId": "b644ee4f-eb94-48ad-cfd0-921b0bc159b6"
      },
      "source": [
        "B=[2,3,4]\n",
        "l4=[[i+j] for i in B for j in range(0,3)]\n",
        "print(str(l4))"
      ],
      "execution_count": 29,
      "outputs": [
        {
          "output_type": "stream",
          "text": [
            "[[2], [3], [4], [3], [4], [5], [4], [5], [6]]\n"
          ],
          "name": "stdout"
        }
      ]
    },
    {
      "cell_type": "code",
      "metadata": {
        "id": "Zv1Bscci0gxw",
        "colab_type": "code",
        "colab": {
          "base_uri": "https://localhost:8080/",
          "height": 35
        },
        "outputId": "63fed704-e213-42d9-a165-211cb320426c"
      },
      "source": [
        "C=[2,3,4,5]\n",
        "l5=[[i+j for i in C] for j in range(0,4)]\n",
        "print(str(l5))\n"
      ],
      "execution_count": 32,
      "outputs": [
        {
          "output_type": "stream",
          "text": [
            "[[2, 3, 4, 5], [3, 4, 5, 6], [4, 5, 6, 7], [5, 6, 7, 8]]\n"
          ],
          "name": "stdout"
        }
      ]
    },
    {
      "cell_type": "code",
      "metadata": {
        "id": "GlCUCmwk06UV",
        "colab_type": "code",
        "colab": {
          "base_uri": "https://localhost:8080/",
          "height": 35
        },
        "outputId": "8208bc48-8ff5-4edc-af56-b5886c0f1b72"
      },
      "source": [
        "D=[1,2,3]\n",
        "l6 = [ (j,i) for i in D for j in D]\n",
        "print(str(l6))\n"
      ],
      "execution_count": 33,
      "outputs": [
        {
          "output_type": "stream",
          "text": [
            "[(1, 1), (2, 1), (3, 1), (1, 2), (2, 2), (3, 2), (1, 3), (2, 3), (3, 3)]\n"
          ],
          "name": "stdout"
        }
      ]
    },
    {
      "cell_type": "markdown",
      "metadata": {
        "id": "d86WqZo62UVX",
        "colab_type": "text"
      },
      "source": [
        "Implement a function longestWord() that takes a list of words and returns the longest one. \n",
        " \n",
        " "
      ]
    },
    {
      "cell_type": "code",
      "metadata": {
        "id": "exXWzd0437Vn",
        "colab_type": "code",
        "colab": {}
      },
      "source": [
        "def longestWord():\n",
        "    text = input(\"Please input a list of words to evaluate: \")\n",
        "\n",
        "    longest = 0\n",
        "\n",
        "    for words in text.split():\n",
        "        if len(words) > longest:\n",
        "            longest = len(words)\n",
        "            longest_word = words\n",
        "\n",
        "    print(\"The longest word is\", longest_word)"
      ],
      "execution_count": 0,
      "outputs": []
    },
    {
      "cell_type": "code",
      "metadata": {
        "id": "pN50gmgS4S05",
        "colab_type": "code",
        "colab": {
          "base_uri": "https://localhost:8080/",
          "height": 54
        },
        "outputId": "c8cafd96-31fd-4870-d138-d3dde40592e8"
      },
      "source": [
        "longestWord()"
      ],
      "execution_count": 44,
      "outputs": [
        {
          "output_type": "stream",
          "text": [
            "Please input a list of words to evaluate: A contemporary design tool\n",
            "The longest word is contemporary\n"
          ],
          "name": "stdout"
        }
      ]
    },
    {
      "cell_type": "markdown",
      "metadata": {
        "id": "koNRdMeLAkYZ",
        "colab_type": "text"
      },
      "source": [
        "Write a Python Program(with class concepts) to find the area of the triangle using the below formula. \n",
        "\n",
        "area = (s*(s-a)*(s-b)*(s-c)) ** 0.5 \n",
        "\n",
        " \n",
        "Function to take the length of the sides of triangle from user should be defined in the parent class and function to calculate the area should be defined in subclass. \n",
        " \n",
        " "
      ]
    },
    {
      "cell_type": "code",
      "metadata": {
        "id": "t54KLdDuGa4G",
        "colab_type": "code",
        "colab": {}
      },
      "source": [
        "class Polygon:\n",
        "\n",
        "    def __init__(self, n):\n",
        "        self.number_of_sides = n\n",
        "\n",
        "    def print_num_sides(self):\n",
        "        print('There are ' + str(self.number_of_sides) + ' sides.')"
      ],
      "execution_count": 0,
      "outputs": []
    },
    {
      "cell_type": "code",
      "metadata": {
        "id": "EifzgRVSKbdV",
        "colab_type": "code",
        "colab": {}
      },
      "source": [
        "class Triangle(Polygon):\n",
        "\n",
        "    def __init__(self, lengths_of_sides):\n",
        "        Polygon.__init__(self, 3)\n",
        "        self.lengths_of_sides = lengths_of_sides  # list of three numbers\n",
        "\n",
        "    def get_area(self):\n",
        "        '''return the area of the triangle using the semi-perimeter method'''\n",
        "        a, b, c = self.lengths_of_sides\n",
        "\n",
        "        # calculate the semi-perimeter\n",
        "        s = (a + b + c) / 2\n",
        "        return (s*(s-a)*(s-b)*(s-c)) ** 0.5"
      ],
      "execution_count": 0,
      "outputs": []
    },
    {
      "cell_type": "code",
      "metadata": {
        "id": "CeVjGbHuKh-k",
        "colab_type": "code",
        "colab": {
          "base_uri": "https://localhost:8080/",
          "height": 35
        },
        "outputId": "26df79a9-9caf-4d3c-ea39-1368f62f8890"
      },
      "source": [
        "tri = Triangle([3, 4, 5])\n",
        "print(tri.get_area())\n"
      ],
      "execution_count": 62,
      "outputs": [
        {
          "output_type": "stream",
          "text": [
            "6.0\n"
          ],
          "name": "stdout"
        }
      ]
    },
    {
      "cell_type": "markdown",
      "metadata": {
        "id": "lN2KE3KKLY2b",
        "colab_type": "text"
      },
      "source": [
        "Write a function filter_long_words() that takes a list of words and an integer n and returns the list of words that are longer than n. "
      ]
    },
    {
      "cell_type": "code",
      "metadata": {
        "id": "ATqh3nxdKq8W",
        "colab_type": "code",
        "colab": {}
      },
      "source": [
        "def filter_long_words():\n",
        "  word=list(input(\"Enter the list of words: \"))\n",
        "  n=int(input(\"Please enter a number: \"))\n",
        "  list_word=[]\n",
        "  for i in word:\n",
        "    if len(i)>n:\n",
        "      list_word.append(i)\n",
        "      print(\"The list of words longer than n are: \",list_word)  \n",
        "\n"
      ],
      "execution_count": 0,
      "outputs": []
    },
    {
      "cell_type": "code",
      "metadata": {
        "id": "7utpihbZLo-G",
        "colab_type": "code",
        "colab": {
          "base_uri": "https://localhost:8080/",
          "height": 54
        },
        "outputId": "877d52c9-c0fc-493b-f4e0-7c6efd17f962"
      },
      "source": [
        "filter_long_words()"
      ],
      "execution_count": 93,
      "outputs": [
        {
          "output_type": "stream",
          "text": [
            "Enter the list of words: ['a','ab','abcd','abcde']\n",
            "Please enter a number: 4\n"
          ],
          "name": "stdout"
        }
      ]
    },
    {
      "cell_type": "code",
      "metadata": {
        "id": "ZvOisUyUWW_1",
        "colab_type": "code",
        "colab": {}
      },
      "source": [
        ""
      ],
      "execution_count": 0,
      "outputs": []
    }
  ]
}